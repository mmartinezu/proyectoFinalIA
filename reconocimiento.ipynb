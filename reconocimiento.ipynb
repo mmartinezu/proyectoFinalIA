{
 "cells": [
  {
   "cell_type": "code",
   "execution_count": 7,
   "metadata": {},
   "outputs": [],
   "source": [
    "import cv2\n",
    "import pickle\n",
    "import numpy as np\n",
    "import tensorflow as tf"
   ]
  },
  {
   "cell_type": "code",
   "execution_count": 8,
   "metadata": {},
   "outputs": [],
   "source": [
    "modelo = tf.keras.models.load_model('modelo_cnn')\n",
    "modelo.load_weights('pesos_cnn_todos.h5')"
   ]
  },
  {
   "cell_type": "code",
   "execution_count": 9,
   "metadata": {},
   "outputs": [],
   "source": [
    "# clases = ['Abraham_Danilo_Miranda_Lopez', 'Alejandro_Benjamin_Rocano_Lopez', 'Alex_Ignacio_Tigselema_Pacheco', 'andres', 'mateo']\n",
    "# clases = ['Abraham_Danilo_Miranda_Lopez', 'Alejandro_Benjamin_Rocano_Lopez', 'Andres_Francisco_Garcia_Flores', 'Joshua_Mateo_Martinez_Urbina']\n",
    "# clases = ['Andres_Francisco_Garcia_Flores', 'Joshua_Mateo_Martinez_Urbina']\n",
    "clases = ['Abraham_Danilo_Miranda_Lopez', 'Alejandro_Benjamin_Rocano_Lopez', 'Alex_Ignacio_Tigselema_Pacheco', 'Andres_Francisco_Garcia_Flores', 'Andres_Patricio_Tapia_Gonzalez', 'Bryan_Eduardo_Martinez_Nunez', 'Christian_Francisco_Nunez_Vaca', 'Christian_Marcelo_Jaramillo_Collazo', 'Daniel_Gerardo_Galarza_Tamayo', 'Dennis_Sebastian_Palate_Dominguez', 'Dennis_Steven_Bonilla_Granja', 'Diana_Jazmin_Pinchao_Fante', 'Diego_Fernando_Cata_Saltos', 'Diego_Mauricio_Toapanta_Llundo', 'Edison_Orlando_Lopez_Galarza', 'Ezequiel_Andres_Sanchez_Lopez', 'Fernando_Vinicio_Guevara_Bayas', 'Jeniffer_Paulina_Yaguana_Caraguay', 'Jonathan_Jose_Pazmino_Fiallos', 'Joshua_Mateo_Martinez_Urbina', 'Kevin_Jesus_Suarez_Gonzalez', 'Luis_Fernando_Zerna_Ramos', 'Marco_Farid_Ruano_Caicedo', 'Mariela_Elizabeth_Amanta_Manobanda', 'Pablo_Jhoel_Puetate_Mier', 'Silvia_Esthefania_Villacres_Chico', 'Thais_Eliana_Armijos_Troya', 'Yadira_Carolina_Allauca_Cajamarca']\n",
    "def predecir_img(modelo, roi):\n",
    "    dato = np.array([roi])\n",
    "    pred = modelo.predict(dato, verbose=False)\n",
    "    pred = pred[0]\n",
    "    indice = np.argmax(pred)\n",
    "    if pred[indice] < 1:\n",
    "        return 'desconocido'\n",
    "    return clases[indice]"
   ]
  },
  {
   "cell_type": "code",
   "execution_count": 10,
   "metadata": {},
   "outputs": [],
   "source": [
    "import cv2\n",
    "camara = cv2.VideoCapture(0)\n",
    "casc_path = './haarcascade_frontalface_default.xml'\n",
    "dimension_img = 100\n",
    "while True:\n",
    "    ret, frame = camara.read()\n",
    "    frame = cv2.flip(frame, 1) #opcional\n",
    "    face_cascade = cv2.CascadeClassifier(casc_path)\n",
    "    gray = cv2.cvtColor(frame, cv2.COLOR_BGR2GRAY)\n",
    "    faces = face_cascade.detectMultiScale(\n",
    "        gray,\n",
    "        scaleFactor=1.1,\n",
    "        minNeighbors=3,\n",
    "        minSize=(dimension_img, dimension_img),\n",
    "        flags=cv2.CASCADE_SCALE_IMAGE\n",
    "    )\n",
    "\n",
    "    for (x, y, w, h) in faces:\n",
    "        cv2.rectangle(frame, (x, y), (x+w, y+h), (0, 150, 0), 1)\n",
    "        roi = gray[y-10:y+h+10 , x-10:x+w+10]\n",
    "        if roi.shape[0] > 0 and roi.shape[1] > 0:\n",
    "            roi = roi/255\n",
    "            roi = cv2.resize(roi, (dimension_img,dimension_img))\n",
    "            cv2.imshow('ROI', roi)\n",
    "            nombre = predecir_img(modelo, roi)\n",
    "            cv2.putText(frame, nombre, (x, y-10), cv2.FONT_HERSHEY_SIMPLEX, 0.9, (0, 150, 0), 2)\n",
    "            \n",
    "\n",
    "    if cv2.waitKey(1) & 0xFF == ord('q'):\n",
    "        break\n",
    "    \n",
    "    cv2.imshow('Rostros', frame)\n",
    "camara.release()\n",
    "cv2.destroyAllWindows()"
   ]
  },
  {
   "cell_type": "code",
   "execution_count": 11,
   "metadata": {},
   "outputs": [],
   "source": [
    "# import cv2\n",
    "# import os\n",
    "\n",
    "# camara = cv2.VideoCapture(0)\n",
    "# casc_path = './haarcascade_frontalface_default.xml' # knn\n",
    "# dimension_img = 200\n",
    "# path = 'D:/Python/proyectoFinal/dataset/datasetManual/fotos'\n",
    "# os.makedirs(path)\n",
    "\n",
    "# c = 1\n",
    "# while True:\n",
    "#     ret, frame = camara.read()\n",
    "#     frame = cv2.flip(frame, 1) # opcional\n",
    "#     face_cascade = cv2.CascadeClassifier(casc_path)\n",
    "#     gray = cv2.cvtColor(frame, cv2.COLOR_BGR2GRAY)\n",
    "#     faces = face_cascade.detectMultiScale(\n",
    "#         gray,\n",
    "#         scaleFactor=1.1,\n",
    "#         minNeighbors=3,\n",
    "#         minSize=(100, 100),\n",
    "#         flags=cv2.CASCADE_SCALE_IMAGE\n",
    "#     )\n",
    "\n",
    "#     for (x, y, w, h) in faces:\n",
    "#         cv2.rectangle(frame, (x, y), (x+w, y+h), (0, 150, 0), 1)\n",
    "#         roi = gray[y-10:y+h+10 , x-10:x+w+10]\n",
    "#         if roi.shape[0] > 0 and roi.shape[1] > 0:\n",
    "#             roi = cv2.resize(roi, (dimension_img,dimension_img))\n",
    "#             cv2.imshow('ROI', roi)\n",
    "#             salida = path + '/' + str(c) + '.jpg'\n",
    "#             cv2.imwrite(salida, roi)\n",
    "#             c+=1\n",
    "\n",
    "#     if cv2.waitKey(1) & 0xFF == ord('q'):\n",
    "#         break\n",
    "    \n",
    "#     cv2.imshow('Rostros', frame)\n",
    "# camara.release()\n",
    "# cv2.destroyAllWindows()"
   ]
  },
  {
   "cell_type": "code",
   "execution_count": 12,
   "metadata": {},
   "outputs": [],
   "source": [
    "camara.release()\n",
    "cv2.destroyAllWindows()"
   ]
  }
 ],
 "metadata": {
  "kernelspec": {
   "display_name": "rostros",
   "language": "python",
   "name": "python3"
  },
  "language_info": {
   "codemirror_mode": {
    "name": "ipython",
    "version": 3
   },
   "file_extension": ".py",
   "mimetype": "text/x-python",
   "name": "python",
   "nbconvert_exporter": "python",
   "pygments_lexer": "ipython3",
   "version": "3.9.17"
  },
  "orig_nbformat": 4
 },
 "nbformat": 4,
 "nbformat_minor": 2
}
