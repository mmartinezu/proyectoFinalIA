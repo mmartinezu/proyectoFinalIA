{
 "cells": [
  {
   "cell_type": "code",
   "execution_count": 8,
   "metadata": {},
   "outputs": [],
   "source": [
    "import cv2\n",
    "import pickle\n",
    "import numpy as np\n",
    "import tensorflow as tf"
   ]
  },
  {
   "cell_type": "code",
   "execution_count": 9,
   "metadata": {},
   "outputs": [],
   "source": [
    "modelo = tf.keras.models.load_model('modelo_cnn')\n",
    "modelo.load_weights('pesos_cnn.h5')"
   ]
  },
  {
   "cell_type": "code",
   "execution_count": 2,
   "metadata": {},
   "outputs": [],
   "source": [
    "with open('modelo_cnn_5clases.pkl', 'rb') as archivo:\n",
    "    modelo = pickle.load(archivo)"
   ]
  },
  {
   "cell_type": "code",
   "execution_count": 13,
   "metadata": {},
   "outputs": [],
   "source": [
    "# clases = ['Abraham_Danilo_Miranda_Lopez', 'Alejandro_Benjamin_Rocano_Lopez', 'Alex_Ignacio_Tigselema_Pacheco', 'andres', 'Andres_Patricio_Tapia_Gonzalez', 'Bryan_Eduardo_Martinez_Nunez', 'Christian_Marcelo_Jaramillo_Collazo', 'Diana_Jazmin_Pinchao_Fante', 'Diego_Fernando_Cata_Saltos', 'Edison_Orlando_Lopez_Galarza', 'Jeniffer_Paulina_Yaguana_Caraguay', 'Jonathan_Jose_Pazmino_Fiallos', 'Luis_Fernando_Zerna_Ramos', 'Marco_Farid_Ruano_Caicedo', 'mateo', 'Pablo_Jhoel_Puetate_Mier', 'Silvia_Esthefania_Villacres_Chico', 'Thais_Eliana_Armijos_Troya']\n",
    "# clases = ['Abraham_Danilo_Miranda_Lopez', 'andres', 'Bryan_Eduardo_Martinez_Nunez', 'Luis_Fernando_Zerna_Ramos', 'mateo']\n",
    "# clases = ['Abraham_Danilo_Miranda_Lopez', 'andres', 'mateo']\n",
    "# clases = ['Abraham_Danilo_Miranda_Lopez', 'Alejandro_Benjamin_Rocano_Lopez', 'Alex_Ignacio_Tigselema_Pacheco', 'andres', 'mateo']\n",
    "clases = ['Abraham_Danilo_Miranda_Lopez', 'Alejandro_Benjamin_Rocano_Lopez', 'Alex_Ignacio_Tigselema_Pacheco', 'andres', 'Andres_Patricio_Tapia_Gonzalez', 'Bryan_Eduardo_Martinez_Nunez', 'Christian_Marcelo_Jaramillo_Collazo', 'Diana_Jazmin_Pinchao_Fante', 'Diego_Fernando_Cata_Saltos', 'Edison_Orlando_Lopez_Galarza', 'Jeniffer_Paulina_Yaguana_Caraguay', 'Jonathan_Jose_Pazmino_Fiallos', 'Luis_Fernando_Zerna_Ramos', 'Marco_Farid_Ruano_Caicedo', 'mateo', 'Pablo_Jhoel_Puetate_Mier', 'Silvia_Esthefania_Villacres_Chico', 'Thais_Eliana_Armijos_Troya']\n",
    "def predecir_img(modelo, roi):\n",
    "    dato = np.array([roi])\n",
    "    pred = modelo.predict(dato, verbose=False)\n",
    "    indice = np.argmax(pred[0])\n",
    "    return clases[indice]"
   ]
  },
  {
   "cell_type": "code",
   "execution_count": 14,
   "metadata": {},
   "outputs": [
    {
     "name": "stdout",
     "output_type": "stream",
     "text": [
      "clase: Abraham_Danilo_Miranda_Lopez\r"
     ]
    }
   ],
   "source": [
    "camara = cv2.VideoCapture(0)\n",
    "ancho_deseado = 500\n",
    "alto_deseado = 500\n",
    "\n",
    "marco = 300\n",
    "margen = (ancho_deseado - marco) // 2\n",
    "coord_x1 = margen\n",
    "coord_y1 = margen\n",
    "coord_x2 = ancho_deseado - margen\n",
    "coord_y2 = alto_deseado - margen\n",
    "color_marco = (200, 0, 0)\n",
    "\n",
    "while True:\n",
    "    ret, frame = camara.read()\n",
    "    frame = cv2.flip(frame, 1)\n",
    "    frame = cv2.resize(frame, (ancho_deseado, alto_deseado))\n",
    "    cv2.rectangle(frame, (margen, margen), (coord_x2, coord_y2), color_marco, 2)\n",
    "    cv2.imshow('frame',frame)\n",
    "    if cv2.waitKey(1) & 0xFF == ord('q'):\n",
    "        break\n",
    "    \n",
    "    frame_grises = cv2.cvtColor(frame, cv2.COLOR_BGR2GRAY)\n",
    "    roi = frame_grises[coord_y1:coord_y2, coord_x1:coord_x2]\n",
    "    roi = cv2.resize(roi, (100, 100))\n",
    "    prediccion = predecir_img(modelo, roi)\n",
    "    print(f'clase: {prediccion}', end='\\r')\n",
    "    \n",
    "camara.release()\n",
    "cv2.destroyAllWindows()"
   ]
  },
  {
   "cell_type": "code",
   "execution_count": 12,
   "metadata": {},
   "outputs": [],
   "source": [
    "camara.release()\n",
    "cv2.destroyAllWindows()"
   ]
  },
  {
   "cell_type": "code",
   "execution_count": 5,
   "metadata": {},
   "outputs": [],
   "source": [
    "clases = ['Abraham_Danilo_Miranda_Lopez', 'andres', 'mateo']\n",
    "def obtener_nombre(pred):\n",
    "    # if pred[1] < 115:\n",
    "    #     return 'desconocido'\n",
    "    return clases[pred[0]]"
   ]
  },
  {
   "cell_type": "code",
   "execution_count": 9,
   "metadata": {},
   "outputs": [],
   "source": [
    "# modelo = cv2.face.LBPHFaceRecognizer_create()\n",
    "# modelo.read('rostros.xml')"
   ]
  },
  {
   "cell_type": "code",
   "execution_count": 20,
   "metadata": {},
   "outputs": [],
   "source": [
    "import cv2\n",
    "camara = cv2.VideoCapture(0)\n",
    "casc_path = './haarcascade_frontalface_default.xml'\n",
    "dimension_img = 100\n",
    "while True:\n",
    "    ret, frame = camara.read()\n",
    "    frame = cv2.flip(frame, 1)\n",
    "    face_cascade = cv2.CascadeClassifier(casc_path)\n",
    "    gray = cv2.cvtColor(frame, cv2.COLOR_BGR2GRAY)\n",
    "    faces = face_cascade.detectMultiScale(\n",
    "        gray,\n",
    "        scaleFactor=1.1,\n",
    "        minNeighbors=3,\n",
    "        minSize=(dimension_img, dimension_img),\n",
    "        flags=cv2.CASCADE_SCALE_IMAGE\n",
    "    )\n",
    "\n",
    "    for (x, y, w, h) in faces:\n",
    "        cv2.rectangle(frame, (x, y), (x+w, y+h), (0, 150, 0), 1)\n",
    "        roi = gray[y-10:y+h+10 , x-10:x+w+10]\n",
    "        if roi.shape[0] > 0 and roi.shape[1] > 0:\n",
    "            roi = cv2.resize(roi, (dimension_img,dimension_img))\n",
    "            cv2.imshow('ROI', roi)\n",
    "            # pred = modelo.predict(roi)\n",
    "            # nombre = obtener_nombre(pred)\n",
    "            nombre = predecir_img(modelo, roi)\n",
    "            cv2.putText(frame, nombre, (x, y-10), cv2.FONT_HERSHEY_SIMPLEX, 0.9, (0, 150, 0), 2)\n",
    "            \n",
    "\n",
    "    if cv2.waitKey(1) & 0xFF == ord('q'):\n",
    "        break\n",
    "    \n",
    "    cv2.imshow('Rostros', frame)\n",
    "camara.release()\n",
    "cv2.destroyAllWindows()"
   ]
  }
 ],
 "metadata": {
  "kernelspec": {
   "display_name": "rostros",
   "language": "python",
   "name": "python3"
  },
  "language_info": {
   "codemirror_mode": {
    "name": "ipython",
    "version": 3
   },
   "file_extension": ".py",
   "mimetype": "text/x-python",
   "name": "python",
   "nbconvert_exporter": "python",
   "pygments_lexer": "ipython3",
   "version": "3.8.17"
  },
  "orig_nbformat": 4
 },
 "nbformat": 4,
 "nbformat_minor": 2
}
