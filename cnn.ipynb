{
 "cells": [
  {
   "cell_type": "code",
   "execution_count": 1,
   "metadata": {},
   "outputs": [
    {
     "name": "stdout",
     "output_type": "stream",
     "text": [
      "Num GPUs Available:  0\n"
     ]
    }
   ],
   "source": [
    "import warnings\n",
    "warnings.filterwarnings('ignore')\n",
    "from sklearn.model_selection import train_test_split\n",
    "from sklearn.metrics import accuracy_score, precision_score, recall_score, f1_score\n",
    "import tensorflow as tf\n",
    "from tensorflow.keras import layers\n",
    "import datag\n",
    "import cv2\n",
    "import numpy as np\n",
    "from tensorflow.keras.models import Sequential\n",
    "from tensorflow.keras.layers import Conv2D, MaxPooling2D, Flatten, Dense, Dropout\n",
    "print(\"Num GPUs Available: \", len(tf.config.list_physical_devices('GPU')))\n"
   ]
  },
  {
   "cell_type": "code",
   "execution_count": 2,
   "metadata": {},
   "outputs": [
    {
     "name": "stdout",
     "output_type": "stream",
     "text": [
      "['Abraham_Danilo_Miranda_Lopez', 'Alejandro_Benjamin_Rocano_Lopez', 'Alex_Ignacio_Tigselema_Pacheco', 'Andres_Francisco_Garcia_Flores', 'Andres_Patricio_Tapia_Gonzalez', 'Bryan_Eduardo_Martinez_Nunez', 'Christian_Francisco_Nunez_Vaca', 'Christian_Marcelo_Jaramillo_Collazo', 'Daniel_Gerardo_Galarza_Tamayo', 'Dennis_Sebastian_Palate_Dominguez', 'Dennis_Steven_Bonilla_Granja', 'Diana_Jazmin_Pinchao_Fante', 'Diego_Fernando_Cata_Saltos', 'Diego_Mauricio_Toapanta_Llundo', 'Edison_Orlando_Lopez_Galarza', 'Ezequiel_Andres_Sanchez_Lopez', 'Fernando_Vinicio_Guevara_Bayas', 'Jeniffer_Paulina_Yaguana_Caraguay', 'Jonathan_Jose_Pazmino_Fiallos', 'Joshua_Mateo_Martinez_Urbina', 'Kevin_Jesus_Suarez_Gonzalez', 'Luis_Fernando_Zerna_Ramos', 'Marco_Farid_Ruano_Caicedo', 'Mariela_Elizabeth_Amanta_Manobanda', 'Pablo_Jhoel_Puetate_Mier', 'Silvia_Esthefania_Villacres_Chico', 'Thais_Eliana_Armijos_Troya', 'Yadira_Carolina_Allauca_Cajamarca']\n",
      "total etiquetas: 18040\n",
      "total datos: 18040\n"
     ]
    }
   ],
   "source": [
    "path_dataset = 'D:/Python/proyectoFinal/dataset/salida/'\n",
    "nombres_directorios = datag.extraer_nombres(path_dataset)\n",
    "print(nombres_directorios)\n",
    "\n",
    "etiquetas = []\n",
    "for index, directorio in enumerate(nombres_directorios):\n",
    "    nombres_archivos = datag.extraer_nombres(path_dataset + directorio)\n",
    "    total_archivos = len(nombres_archivos)\n",
    "    for _ in range(total_archivos):\n",
    "        etiquetas.append(index)\n",
    "print(f'total etiquetas: {len(etiquetas)}')\n",
    "\n",
    "imagenes = [] \n",
    "for directorio in nombres_directorios:\n",
    "    nombres_archivos = datag.extraer_nombres(path_dataset + directorio)\n",
    "    for nombre_archivo in nombres_archivos:\n",
    "        img_array = cv2.imread(path_dataset + directorio + '/' + nombre_archivo, cv2.IMREAD_GRAYSCALE)\n",
    "        img_array = img_array / 255 # normalizo\n",
    "        imagenes.append(img_array)\n",
    "print(f'total datos: {len(imagenes)}')"
   ]
  },
  {
   "cell_type": "code",
   "execution_count": 3,
   "metadata": {},
   "outputs": [],
   "source": [
    "xtrain, xtest, ytrain, ytest = train_test_split(imagenes, etiquetas, random_state=10)"
   ]
  },
  {
   "cell_type": "code",
   "execution_count": 4,
   "metadata": {},
   "outputs": [
    {
     "name": "stdout",
     "output_type": "stream",
     "text": [
      "(13530, 100, 100)\n"
     ]
    }
   ],
   "source": [
    "xtrain = np.array(xtrain)\n",
    "ytrain = np.array(ytrain)\n",
    "\n",
    "xtest = np.array(xtest)\n",
    "ytest = np.array(ytest)\n",
    "\n",
    "print(xtrain.shape)"
   ]
  },
  {
   "cell_type": "code",
   "execution_count": 5,
   "metadata": {},
   "outputs": [
    {
     "name": "stdout",
     "output_type": "stream",
     "text": [
      "Model: \"sequential\"\n",
      "_________________________________________________________________\n",
      " Layer (type)                Output Shape              Param #   \n",
      "=================================================================\n",
      " conv2d (Conv2D)             (None, 98, 98, 32)        320       \n",
      "                                                                 \n",
      " max_pooling2d (MaxPooling2  (None, 49, 49, 32)        0         \n",
      " D)                                                              \n",
      "                                                                 \n",
      " conv2d_1 (Conv2D)           (None, 47, 47, 64)        18496     \n",
      "                                                                 \n",
      " max_pooling2d_1 (MaxPoolin  (None, 23, 23, 64)        0         \n",
      " g2D)                                                            \n",
      "                                                                 \n",
      " conv2d_2 (Conv2D)           (None, 21, 21, 128)       73856     \n",
      "                                                                 \n",
      " max_pooling2d_2 (MaxPoolin  (None, 10, 10, 128)       0         \n",
      " g2D)                                                            \n",
      "                                                                 \n",
      " dropout (Dropout)           (None, 10, 10, 128)       0         \n",
      "                                                                 \n",
      " flatten (Flatten)           (None, 12800)             0         \n",
      "                                                                 \n",
      " dense (Dense)               (None, 64)                819264    \n",
      "                                                                 \n",
      " dense_1 (Dense)             (None, 128)               8320      \n",
      "                                                                 \n",
      " dense_2 (Dense)             (None, 128)               16512     \n",
      "                                                                 \n",
      " dense_3 (Dense)             (None, 64)                8256      \n",
      "                                                                 \n",
      " dense_4 (Dense)             (None, 28)                1820      \n",
      "                                                                 \n",
      "=================================================================\n",
      "Total params: 946844 (3.61 MB)\n",
      "Trainable params: 946844 (3.61 MB)\n",
      "Non-trainable params: 0 (0.00 Byte)\n",
      "_________________________________________________________________\n"
     ]
    }
   ],
   "source": [
    "modelo = tf.keras.Sequential([\n",
    "    layers.Conv2D(32, kernel_size=(3, 3), activation='relu', input_shape=(xtrain[0].shape[0],xtrain[0].shape[1],1)),\n",
    "    layers.MaxPooling2D((2, 2)),\n",
    "\n",
    "    layers.Conv2D(64, (3, 3), activation='relu'),\n",
    "    layers.MaxPooling2D(pool_size=(2, 2)),\n",
    "\n",
    "    layers.Conv2D(128, (3, 3), activation='relu'),\n",
    "    layers.MaxPooling2D(pool_size=(2, 2)),\n",
    "    \n",
    "    layers.Dropout(0.5),\n",
    "    layers.Flatten(),\n",
    "    \n",
    "    layers.Dense(64, activation=tf.nn.relu),\n",
    "    layers.Dense(128, activation=tf.nn.relu),\n",
    "    layers.Dense(128, activation=tf.nn.relu),\n",
    "    layers.Dense(64, activation=tf.nn.relu),\n",
    "    layers.Dense(len(nombres_directorios), activation=tf.nn.softmax)\n",
    "])\n",
    "modelo.compile(\n",
    "    optimizer='adam',\n",
    "    loss=tf.keras.losses.SparseCategoricalCrossentropy(),\n",
    "    metrics=['accuracy'])\n",
    "modelo.summary()"
   ]
  },
  {
   "cell_type": "code",
   "execution_count": 6,
   "metadata": {},
   "outputs": [
    {
     "name": "stdout",
     "output_type": "stream",
     "text": [
      "Epoch 1/12\n",
      "423/423 [==============================] - 72s 166ms/step - loss: 2.0911 - accuracy: 0.3551\n",
      "Epoch 2/12\n",
      "423/423 [==============================] - 68s 161ms/step - loss: 0.8100 - accuracy: 0.7390\n",
      "Epoch 3/12\n",
      "423/423 [==============================] - 69s 163ms/step - loss: 0.4789 - accuracy: 0.8503\n",
      "Epoch 4/12\n",
      "423/423 [==============================] - 69s 162ms/step - loss: 0.3450 - accuracy: 0.8929\n",
      "Epoch 5/12\n",
      "423/423 [==============================] - 71s 167ms/step - loss: 0.2650 - accuracy: 0.9166\n",
      "Epoch 6/12\n",
      "423/423 [==============================] - 72s 171ms/step - loss: 0.2209 - accuracy: 0.9292\n",
      "Epoch 7/12\n",
      "423/423 [==============================] - 68s 160ms/step - loss: 0.1899 - accuracy: 0.9392\n",
      "Epoch 8/12\n",
      "423/423 [==============================] - 73s 172ms/step - loss: 0.1557 - accuracy: 0.9496\n",
      "Epoch 9/12\n",
      "423/423 [==============================] - 70s 165ms/step - loss: 0.1460 - accuracy: 0.9525\n",
      "Epoch 10/12\n",
      "423/423 [==============================] - 66s 156ms/step - loss: 0.1299 - accuracy: 0.9574\n",
      "Epoch 11/12\n",
      "423/423 [==============================] - 65s 154ms/step - loss: 0.1139 - accuracy: 0.9639\n",
      "Epoch 12/12\n",
      "423/423 [==============================] - 65s 154ms/step - loss: 0.1115 - accuracy: 0.9622\n"
     ]
    },
    {
     "data": {
      "text/plain": [
       "<keras.src.callbacks.History at 0x1bceef3ca00>"
      ]
     },
     "execution_count": 6,
     "metadata": {},
     "output_type": "execute_result"
    }
   ],
   "source": [
    "modelo.fit(xtrain, ytrain, epochs=12, batch_size=32, shuffle=True)"
   ]
  },
  {
   "cell_type": "code",
   "execution_count": 7,
   "metadata": {},
   "outputs": [
    {
     "name": "stdout",
     "output_type": "stream",
     "text": [
      "141/141 [==============================] - 6s 39ms/step\n",
      "Exactitud: 0.9492239467849224\n",
      "Precisión: 0.9452465283785827\n",
      "Sensibilidad: 0.94326417760926\n"
     ]
    }
   ],
   "source": [
    "predicciones = modelo.predict(xtest)\n",
    "y_pred = np.argmax(predicciones, axis=1)\n",
    "\n",
    "exactitud = accuracy_score(ytest, y_pred)\n",
    "precision = precision_score(ytest, y_pred, average='macro')\n",
    "sensibilidad = recall_score(ytest, y_pred, average='macro')\n",
    "\n",
    "print(\"Exactitud:\", exactitud)\n",
    "print(\"Precisión:\", precision)\n",
    "print(\"Sensibilidad:\", sensibilidad)"
   ]
  },
  {
   "attachments": {},
   "cell_type": "markdown",
   "metadata": {},
   "source": [
    "descgargar el modelo"
   ]
  },
  {
   "cell_type": "code",
   "execution_count": 8,
   "metadata": {},
   "outputs": [
    {
     "name": "stdout",
     "output_type": "stream",
     "text": [
      "INFO:tensorflow:Assets written to: modelo_cnn\\assets\n"
     ]
    },
    {
     "name": "stderr",
     "output_type": "stream",
     "text": [
      "INFO:tensorflow:Assets written to: modelo_cnn\\assets\n"
     ]
    }
   ],
   "source": [
    "modelo.save('modelo_cnn')\n",
    "modelo.save_weights('pesos_cnn_todos.h5')"
   ]
  }
 ],
 "metadata": {
  "kernelspec": {
   "display_name": "rostros",
   "language": "python",
   "name": "python3"
  },
  "language_info": {
   "codemirror_mode": {
    "name": "ipython",
    "version": 3
   },
   "file_extension": ".py",
   "mimetype": "text/x-python",
   "name": "python",
   "nbconvert_exporter": "python",
   "pygments_lexer": "ipython3",
   "version": "3.9.17"
  },
  "orig_nbformat": 4
 },
 "nbformat": 4,
 "nbformat_minor": 2
}
