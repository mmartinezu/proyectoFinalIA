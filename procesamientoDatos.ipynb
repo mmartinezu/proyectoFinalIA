{
 "cells": [
  {
   "cell_type": "code",
   "execution_count": 1,
   "metadata": {},
   "outputs": [],
   "source": [
    "import warnings\n",
    "warnings.filterwarnings('ignore')\n",
    "import datag\n",
    "import cv2"
   ]
  },
  {
   "cell_type": "code",
   "execution_count": 2,
   "metadata": {},
   "outputs": [
    {
     "name": "stdout",
     "output_type": "stream",
     "text": [
      " directorios: ['Abraham_Danilo_Miranda_Lopez', 'Alejandro_Benjamin_Rocano_Lopez', 'Alex_Ignacio_Tigselema_Pacheco', 'Andres_Francisco_Garcia_Flores', 'Andres_Patricio_Tapia_Gonzalez', 'Bryan_Eduardo_Martinez_Nunez', 'Christian_Francisco_Nunez_Vaca', 'Christian_Marcelo_Jaramillo_Collazo', 'Daniel_Gerardo_Galarza_Tamayo', 'Dennis_Sebastian_Palate_Dominguez', 'Dennis_Steven_Bonilla_Granja', 'Diana_Jazmin_Pinchao_Fante', 'Diego_Fernando_Cata_Saltos', 'Diego_Mauricio_Toapanta_Llundo', 'Edison_Orlando_Lopez_Galarza', 'Ezequiel_Andres_Sanchez_Lopez', 'Fernando_Vinicio_Guevara_Bayas', 'Jeniffer_Paulina_Yaguana_Caraguay', 'Jonathan_Jose_Pazmino_Fiallos', 'Joshua_Mateo_Martinez_Urbina', 'Kevin_Jesus_Suarez_Gonzalez', 'Luis_Fernando_Zerna_Ramos', 'Marco_Farid_Ruano_Caicedo', 'Mariela_Elizabeth_Amanta_Manobanda', 'Pablo_Jhoel_Puetate_Mier', 'Silvia_Esthefania_Villacres_Chico', 'Thais_Eliana_Armijos_Troya', 'Yadira_Carolina_Allauca_Cajamarca']\n",
      "dict_keys(['Abraham_Danilo_Miranda_Lopez', 'Alejandro_Benjamin_Rocano_Lopez', 'Alex_Ignacio_Tigselema_Pacheco', 'Andres_Francisco_Garcia_Flores', 'Andres_Patricio_Tapia_Gonzalez', 'Bryan_Eduardo_Martinez_Nunez', 'Christian_Francisco_Nunez_Vaca', 'Christian_Marcelo_Jaramillo_Collazo', 'Daniel_Gerardo_Galarza_Tamayo', 'Dennis_Sebastian_Palate_Dominguez', 'Dennis_Steven_Bonilla_Granja', 'Diana_Jazmin_Pinchao_Fante', 'Diego_Fernando_Cata_Saltos', 'Diego_Mauricio_Toapanta_Llundo', 'Edison_Orlando_Lopez_Galarza', 'Ezequiel_Andres_Sanchez_Lopez', 'Fernando_Vinicio_Guevara_Bayas', 'Jeniffer_Paulina_Yaguana_Caraguay', 'Jonathan_Jose_Pazmino_Fiallos', 'Joshua_Mateo_Martinez_Urbina', 'Kevin_Jesus_Suarez_Gonzalez', 'Luis_Fernando_Zerna_Ramos', 'Marco_Farid_Ruano_Caicedo', 'Mariela_Elizabeth_Amanta_Manobanda', 'Pablo_Jhoel_Puetate_Mier', 'Silvia_Esthefania_Villacres_Chico', 'Thais_Eliana_Armijos_Troya', 'Yadira_Carolina_Allauca_Cajamarca'])\n"
     ]
    }
   ],
   "source": [
    "aumento_x_imagen = 40\n",
    "dimension_img = 100\n",
    "\n",
    "path_dataset = 'D:/Python/proyectoFinal/dataset/tratados'\n",
    "nombres_directorios = datag.extraer_nombres(path_dataset)\n",
    "print(f' directorios: {nombres_directorios}')\n",
    "\n",
    "etiquetas_archivos = {}\n",
    "for directorio in nombres_directorios:\n",
    "    nombres_archivos = datag.extraer_nombres(path_dataset + '/' + directorio)\n",
    "    etiquetas_archivos[directorio] = nombres_archivos\n",
    "print(etiquetas_archivos.keys())\n",
    "\n",
    "etiquetas_imgs = {}\n",
    "for etiqueta in etiquetas_archivos:\n",
    "    archivos = etiquetas_archivos[etiqueta]\n",
    "    lista = []\n",
    "    for archivo in archivos:\n",
    "        path = path_dataset + '/' + etiqueta + '/' + archivo\n",
    "        img_array = cv2.imread(path, cv2.IMREAD_GRAYSCALE)\n",
    "        img_array = cv2.resize(img_array, (dimension_img, dimension_img))\n",
    "        lista.append(img_array)\n",
    "    etiquetas_imgs[etiqueta] = lista\n",
    "\n",
    "path_salida = 'D:/Python/proyectoFinal/dataset/salida'\n",
    "datag.os.makedirs(path_salida)\n",
    "for etiqueta in etiquetas_imgs:\n",
    "    datag.os.makedirs(path_salida + '/' + etiqueta)\n",
    "\n",
    "c = 1\n",
    "for etiqueta in etiquetas_imgs:\n",
    "    arrays = etiquetas_imgs[etiqueta]\n",
    "    for index, img_array in enumerate(arrays):\n",
    "        for i in range(aumento_x_imagen):\n",
    "            nuevo = datag.aumentar_imagen(img_array, path_salida, c, write=False)\n",
    "            path = path_salida + '/' + etiqueta + '/' + str(c) + '.jpg'\n",
    "            cv2.imwrite(path, nuevo)\n",
    "            c+=1"
   ]
  }
 ],
 "metadata": {
  "kernelspec": {
   "display_name": "rostros",
   "language": "python",
   "name": "python3"
  },
  "language_info": {
   "codemirror_mode": {
    "name": "ipython",
    "version": 3
   },
   "file_extension": ".py",
   "mimetype": "text/x-python",
   "name": "python",
   "nbconvert_exporter": "python",
   "pygments_lexer": "ipython3",
   "version": "3.9.17"
  },
  "orig_nbformat": 4
 },
 "nbformat": 4,
 "nbformat_minor": 2
}
